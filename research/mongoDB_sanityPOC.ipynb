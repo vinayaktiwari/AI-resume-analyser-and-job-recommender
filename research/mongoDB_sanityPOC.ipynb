{
 "cells": [
  {
   "cell_type": "code",
   "execution_count": null,
   "metadata": {},
   "outputs": [],
   "source": [
    "#FOR EXPERIMETS AND POC"
   ]
  },
  {
   "cell_type": "code",
   "execution_count": 2,
   "metadata": {},
   "outputs": [],
   "source": [
    "import pandas as pd\n",
    "import numpy as np\n",
    "import csv\n",
    "from pymongo import MongoClient"
   ]
  },
  {
   "cell_type": "code",
   "execution_count": 3,
   "metadata": {},
   "outputs": [],
   "source": [
    "csv_file =\"/home/vinayak.t/Real-Estate-Chat-Agent/dummy_data.csv\""
   ]
  },
  {
   "cell_type": "code",
   "execution_count": 4,
   "metadata": {},
   "outputs": [],
   "source": [
    "df = pd.read_csv(\"/home/vinayak.t/Real-Estate-Chat-Agent/dummy_data.csv\")\n",
    "df = df.iloc[:,1:]"
   ]
  },
  {
   "cell_type": "code",
   "execution_count": 5,
   "metadata": {},
   "outputs": [
    {
     "data": {
      "text/html": [
       "<div>\n",
       "<style scoped>\n",
       "    .dataframe tbody tr th:only-of-type {\n",
       "        vertical-align: middle;\n",
       "    }\n",
       "\n",
       "    .dataframe tbody tr th {\n",
       "        vertical-align: top;\n",
       "    }\n",
       "\n",
       "    .dataframe thead th {\n",
       "        text-align: right;\n",
       "    }\n",
       "</style>\n",
       "<table border=\"1\" class=\"dataframe\">\n",
       "  <thead>\n",
       "    <tr style=\"text-align: right;\">\n",
       "      <th></th>\n",
       "      <th>Rent</th>\n",
       "      <th>Address</th>\n",
       "      <th># Beds</th>\n",
       "      <th># Baths</th>\n",
       "      <th># parkings</th>\n",
       "      <th>date_available</th>\n",
       "      <th>bond_amount</th>\n",
       "      <th>property_headline</th>\n",
       "      <th>property_description</th>\n",
       "      <th>inspection_date</th>\n",
       "      <th>inspection_time</th>\n",
       "      <th>map_url</th>\n",
       "      <th>contact_person</th>\n",
       "      <th>agency</th>\n",
       "    </tr>\n",
       "  </thead>\n",
       "  <tbody>\n",
       "    <tr>\n",
       "      <th>0</th>\n",
       "      <td>$1375 per week</td>\n",
       "      <td>5/46-48 Abbotsford Parade, Abbotsford NSW 2046</td>\n",
       "      <td>3</td>\n",
       "      <td>2</td>\n",
       "      <td>2</td>\n",
       "      <td>Available Now</td>\n",
       "      <td>$5500</td>\n",
       "      <td>A truly unique property on multiple levels.</td>\n",
       "      <td>Welcome to your future home in Abbotsford, Syd...</td>\n",
       "      <td>Saturday, 17 Feb</td>\n",
       "      <td>12:30pm - 12:45pm</td>\n",
       "      <td>https://www.google.com/maps/dir/?api=1&amp;destina...</td>\n",
       "      <td>Daniel Alves</td>\n",
       "      <td>The Agency Inner West - Strathfield</td>\n",
       "    </tr>\n",
       "  </tbody>\n",
       "</table>\n",
       "</div>"
      ],
      "text/plain": [
       "             Rent                                         Address  # Beds  \\\n",
       "0  $1375 per week  5/46-48 Abbotsford Parade, Abbotsford NSW 2046       3   \n",
       "\n",
       "   # Baths  # parkings date_available bond_amount  \\\n",
       "0        2           2  Available Now       $5500   \n",
       "\n",
       "                             property_headline  \\\n",
       "0  A truly unique property on multiple levels.   \n",
       "\n",
       "                                property_description   inspection_date  \\\n",
       "0  Welcome to your future home in Abbotsford, Syd...  Saturday, 17 Feb   \n",
       "\n",
       "     inspection_time                                            map_url  \\\n",
       "0  12:30pm - 12:45pm  https://www.google.com/maps/dir/?api=1&destina...   \n",
       "\n",
       "  contact_person                               agency  \n",
       "0   Daniel Alves  The Agency Inner West - Strathfield  "
      ]
     },
     "execution_count": 5,
     "metadata": {},
     "output_type": "execute_result"
    }
   ],
   "source": [
    "df"
   ]
  },
  {
   "cell_type": "code",
   "execution_count": 6,
   "metadata": {},
   "outputs": [],
   "source": [
    "client = MongoClient('localhost', 27017)\n",
    "db = client['RealEstateDB']  \n",
    "collection = db['aus_house_listings']"
   ]
  },
  {
   "cell_type": "code",
   "execution_count": 7,
   "metadata": {},
   "outputs": [
    {
     "data": {
      "text/plain": [
       "Index(['Rent', 'Address', '# Beds', '# Baths', '# parkings', 'date_available',\n",
       "       'bond_amount', 'property_headline', 'property_description',\n",
       "       'inspection_date', 'inspection_time', 'map_url', 'contact_person',\n",
       "       'agency'],\n",
       "      dtype='object')"
      ]
     },
     "execution_count": 7,
     "metadata": {},
     "output_type": "execute_result"
    }
   ],
   "source": [
    "if 'RealEstateDB' not in client.list_database_names():\n",
    "    print(\"Database not found, creating...\")\n",
    "    db.create_collection('RealEstateDB')\n",
    "    print(\"Database created.\")\n",
    "if 'aus_house_listings' not in db.list_collection_names():\n",
    "    print(\"Collection not found, creating...\")\n",
    "    db.create_collection('aus_house_listings')\n",
    "    print(\"Collection created.\")\n",
    "\n",
    "df.columns"
   ]
  },
  {
   "cell_type": "code",
   "execution_count": 8,
   "metadata": {},
   "outputs": [
    {
     "name": "stdout",
     "output_type": "stream",
     "text": [
      "{'': '0', 'Rent': '$1375 per week', 'Address': '5/46-48 Abbotsford Parade, Abbotsford NSW 2046', '# Beds': '3', '# Baths': '2', '# parkings': '2', 'date_available': 'Available Now', 'bond_amount': '$5500', 'property_headline': 'A truly unique property on multiple levels.', 'property_description': 'Welcome to your future home in Abbotsford, Sydney! This exceptional three-story townhouse offers a lifestyle of luxury, space and convenience, complete with a rooftop entertaining terrace and a host of desirable features. The property includes 3 bedrooms, 2 bathrooms and a 2-car garage. The property also has multiple outdoor spaces with balconies on multiple levels, a large courtyard providing the', 'inspection_date': 'Saturday, 17 Feb', 'inspection_time': '12:30pm - 12:45pm', 'map_url': 'https://www.google.com/maps/dir/?api=1&destination=-33.8492779,151.1246167', 'contact_person': 'Daniel Alves', 'agency': 'The Agency Inner West - Strathfield'}\n"
     ]
    }
   ],
   "source": [
    "\n",
    "\n",
    "with open(csv_file,'r') as file:\n",
    "    reader =csv.DictReader(file)\n",
    "    for row in reader:\n",
    "        print(row)\n",
    "            # row[''] = int(row['age'])\n",
    "            # row['age'] = int(row['age'])\n",
    "            # row['age'] = int(row['age'])\n",
    "            # row['age'] = int(row['age'])\n",
    "            # row['age'] = int(row['age'])\n",
    "            # row['age'] = int(row['age'])\n",
    "        collection.insert_one(row)\n"
   ]
  },
  {
   "cell_type": "code",
   "execution_count": null,
   "metadata": {},
   "outputs": [],
   "source": []
  },
  {
   "cell_type": "code",
   "execution_count": null,
   "metadata": {},
   "outputs": [],
   "source": []
  },
  {
   "cell_type": "code",
   "execution_count": null,
   "metadata": {},
   "outputs": [],
   "source": []
  },
  {
   "cell_type": "code",
   "execution_count": null,
   "metadata": {},
   "outputs": [],
   "source": []
  }
 ],
 "metadata": {
  "kernelspec": {
   "display_name": "Python 3",
   "language": "python",
   "name": "python3"
  },
  "language_info": {
   "codemirror_mode": {
    "name": "ipython",
    "version": 3
   },
   "file_extension": ".py",
   "mimetype": "text/x-python",
   "name": "python",
   "nbconvert_exporter": "python",
   "pygments_lexer": "ipython3",
   "version": "3.10.12"
  }
 },
 "nbformat": 4,
 "nbformat_minor": 2
}
